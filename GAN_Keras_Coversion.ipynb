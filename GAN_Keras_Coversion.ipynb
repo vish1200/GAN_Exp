{
 "cells": [
  {
   "cell_type": "code",
   "execution_count": 34,
   "metadata": {},
   "outputs": [],
   "source": [
    "import pandas as pd\n",
    "import glob\n",
    "import imageio\n",
    "import matplotlib.pyplot as plt\n",
    "import numpy as np\n",
    "import os\n",
    "import PIL\n",
    "# import tensorflow.compat.v1 as tf\n",
    "# tf.disable_v2_behavior()\n",
    "# from tensorflow.keras import layers\n",
    "from keras.optimizers import Adam\n",
    "from keras.models import Sequential\n",
    "from keras.layers import Dense\n",
    "from keras.layers.advanced_activations import LeakyReLU\n",
    "from keras.layers import Input\n",
    "from keras.models import Model\n",
    "import time\n",
    "from IPython import display\n",
    "import math\n",
    "import time"
   ]
  },
  {
   "cell_type": "code",
   "execution_count": 16,
   "metadata": {},
   "outputs": [],
   "source": [
    "def get_y(x):\n",
    "    return x*x\n",
    "\n",
    "def sample_data(n, num_points):\n",
    "    x = (np.random.random_sample((num_points,))-0.5)*10\n",
    "    x = np.sort(x).tolist()\n",
    "    a = np.random.uniform(-10, 10)\n",
    "    b = np.random.uniform(-1, 1)\n",
    "    c = np.random.uniform(-10, 10)\n",
    "    y = []\n",
    "    for i in range(0,num_points):\n",
    "        y.append(x[i]**2 + c)\n",
    "    combined = x+y\n",
    "    data = np.array([combined])\n",
    "    for i in range(n-1):\n",
    "        c = np.random.uniform(-10, 10)\n",
    "        x = (np.random.random_sample((num_points,))-0.5)*10\n",
    "        x = np.sort(x).tolist()\n",
    "        y = []\n",
    "        for i in range(0,num_points):\n",
    "#             yi = a*x[i]**2 + b*x[i] + c \n",
    "#             yi = x[i]**2\n",
    "            y.append(x[i]**2 + c)\n",
    "#             data.append([x[i], yi])\n",
    "        combined = x + y\n",
    "        data = np.vstack((data, combined))\n",
    "    return data\n",
    "\n",
    "\n",
    "def pi_sample_data(n, f):\n",
    "    data = []\n",
    "    for i in range(n):\n",
    "        x = np.random.uniform(0, 1)\n",
    "        data.append([x, math.sin(x*np.pi*f) + np.random.uniform(0,1)])\n",
    "    return np.array(data)\n",
    "    \n",
    "\n",
    "def sample_z(m, n):\n",
    "    seed = np.random.uniform(-1., 1., size=[m, n])\n",
    "    seed = np.sort(seed)\n",
    "    return seed"
   ]
  },
  {
   "cell_type": "code",
   "execution_count": 35,
   "metadata": {
    "scrolled": true
   },
   "outputs": [
    {
     "name": "stdout",
     "output_type": "stream",
     "text": [
      "0.07480259736378987\n",
      "Iterations: 0\t Discriminator loss: 0.7085\t Generator loss: 0.6380\n"
     ]
    },
    {
     "data": {
      "image/png": "[encoded data removed]",
      "text/plain": [
       "<Figure size 432x288 with 1 Axes>"
      ]
     },
     "metadata": {
      "needs_background": "light"
     },
     "output_type": "display_data"
    },
    {
     "name": "stdout",
     "output_type": "stream",
     "text": [
      "5.646193532148997\n",
      "Iterations: 4000\t Discriminator loss: 0.5884\t Generator loss: 1.5041\n"
     ]
    },
    {
     "data": {
      "image/png": "[encoded data removed]",
      "text/plain": [
       "<Figure size 432x288 with 1 Axes>"
      ]
     },
     "metadata": {
      "needs_background": "light"
     },
     "output_type": "display_data"
    }
   ],
   "source": [
    "os.environ['KMP_DUPLICATE_LIB_OK']='True'\n",
    "tf.reset_default_graph()\n",
    "start = time.time()\n",
    "num_points = 50\n",
    "gen_input_size = 200\n",
    "optimizer = Adam(0.0002, 0.5)\n",
    "batch_size = 256\n",
    "epochs = 4001\n",
    "steps_per_epoch = 1\n",
    "def generator():\n",
    "    generator = Sequential()\n",
    "    \n",
    "    generator.add(Dense(1000, input_dim=gen_input_size))\n",
    "    generator.add(LeakyReLU(0.2))\n",
    "    \n",
    "#     generator.add(Dense(200))\n",
    "#     generator.add(LeakyReLU(0.2))\n",
    "    \n",
    "    generator.add(Dense(num_points*2))\n",
    "    \n",
    "    generator.compile(loss='binary_crossentropy', optimizer=optimizer)\n",
    "\n",
    "    return generator\n",
    "\n",
    "def discriminator():\n",
    "    discriminator = Sequential()\n",
    "    \n",
    "    discriminator.add(Dense(1000, input_dim=num_points*2))\n",
    "    discriminator.add(LeakyReLU(0.2))\n",
    "    \n",
    "    discriminator.add(Dense(1, activation='sigmoid'))\n",
    "    \n",
    "    discriminator.compile(loss = 'binary_crossentropy', optimizer=optimizer)\n",
    "    \n",
    "    return discriminator\n",
    "\n",
    "discriminator = discriminator()\n",
    "generator = generator()\n",
    "\n",
    "discriminator.trainable = False\n",
    "\n",
    "gan_input = Input(shape=(gen_input_size,))\n",
    "fake_image = generator(gan_input)\n",
    "gan_output = discriminator(fake_image)\n",
    "\n",
    "gan = Model(gan_input, gan_output)\n",
    "\n",
    "gan.compile(loss='binary_crossentropy', optimizer=optimizer)\n",
    "\n",
    "for epoch in range(epochs):\n",
    "    for steps in range(steps_per_epoch):\n",
    "        noise = sample_z(batch_size, gen_input_size)\n",
    "        fake_x = generator.predict(noise)\n",
    "        real_x = sample_data(n=batch_size, num_points=num_points)\n",
    "        x = np.concatenate((real_x, fake_x))\n",
    "        disc_y = np.zeros(2*batch_size)\n",
    "        disc_y[:batch_size] = 0.9\n",
    "        d_loss = discriminator.train_on_batch(x, disc_y)\n",
    "        y_gen = np.ones(batch_size)\n",
    "        g_loss = gan.train_on_batch(noise, y_gen)\n",
    "        \n",
    "    if epoch%4000 == 0:\n",
    "        print((time.time()-start)/60)\n",
    "        print(\"Iterations: %d\\t Discriminator loss: %.4f\\t Generator loss: %.4f\"%(epoch,d_loss,g_loss))\n",
    "        g_plot = generator.predict(sample_z(batch_size, gen_input_size))\n",
    "        x_ = []\n",
    "        y_ = []\n",
    "        for i in range(0, int(g_plot.shape[1]/2)):\n",
    "            x_.append(g_plot[0,i])\n",
    "\n",
    "        for i in range(int(g_plot.shape[1]/2), int(g_plot.shape[1])):\n",
    "            y_.append(g_plot[0,i])\n",
    "\n",
    "        plt.ylim(-20.0, 20)\n",
    "        plt.scatter(x_, y_)\n",
    "        plt.show()\n",
    "        start = time.time()\n",
    "        \n"
   ]
  },
  {
   "cell_type": "code",
   "execution_count": 33,
   "metadata": {},
   "outputs": [
    {
     "data": {
      "image/png": "[encoded data removed]",
      "text/plain": [
       "<Figure size 432x288 with 1 Axes>"
      ]
     },
     "metadata": {
      "needs_background": "light"
     },
     "output_type": "display_data"
    }
   ],
   "source": [
    "g_plot = generator.predict(sample_z(batch_size, gen_input_size))\n",
    "x_ = []\n",
    "y_ = []\n",
    "for i in range(0, int(g_plot.shape[1]/2)):\n",
    "    x_.append(g_plot[0,i])\n",
    "\n",
    "for i in range(int(g_plot.shape[1]/2), int(g_plot.shape[1])):\n",
    "    y_.append(g_plot[0,i])\n",
    "\n",
    "plt.ylim(-20.0, 20)\n",
    "plt.scatter(x_, y_)\n",
    "plt.show()"
   ]
  }
 ],
 "metadata": {
  "kernelspec": {
   "display_name": "Python 3",
   "language": "python",
   "name": "python3"
  },
  "language_info": {
   "codemirror_mode": {
    "name": "ipython",
    "version": 3
   },
   "file_extension": ".py",
   "mimetype": "text/x-python",
   "name": "python",
   "nbconvert_exporter": "python",
   "pygments_lexer": "ipython3",
   "version": "3.7.4"
  }
 },
 "nbformat": 4,
 "nbformat_minor": 2
}
