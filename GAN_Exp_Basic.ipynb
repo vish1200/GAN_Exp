{
 "cells": [
  {
   "cell_type": "code",
   "execution_count": 1,
   "metadata": {},
   "outputs": [
    {
     "name": "stdout",
     "output_type": "stream",
     "text": [
      "WARNING:tensorflow:From /opt/anaconda3/lib/python3.7/site-packages/tensorflow_core/python/compat/v2_compat.py:65: disable_resource_variables (from tensorflow.python.ops.variable_scope) is deprecated and will be removed in a future version.\n",
      "Instructions for updating:\n",
      "non-resource variables are not supported in the long term\n"
     ]
    }
   ],
   "source": [
    "import pandas as pd\n",
    "import glob\n",
    "import imageio\n",
    "import matplotlib.pyplot as plt\n",
    "import numpy as np\n",
    "import os\n",
    "import PIL\n",
    "import tensorflow.compat.v1 as tf\n",
    "tf.disable_v2_behavior()\n",
    "from tensorflow.keras import layers\n",
    "import time\n",
    "from IPython import display\n",
    "import math"
   ]
  },
  {
   "cell_type": "code",
   "execution_count": 59,
   "metadata": {},
   "outputs": [],
   "source": [
    "def get_y(x):\n",
    "    return x*x\n",
    "\n",
    "def sample_data(n, scale=100):\n",
    "    data = []\n",
    "    a = np.random.uniform(-10, 10)\n",
    "    b = np.random.uniform(-1, 1)\n",
    "    c = np.random.uniform(-10, 10)\n",
    "    x = (np.random.random_sample((n,))-0.5)\n",
    "    for i in range(n):\n",
    "        yi = a*x[i]**2 + b*x[i] + c \n",
    "        data.append([x[i], yi])\n",
    "    return np.array(data)\n",
    "\n",
    "\n",
    "def pi_sample_data(n, f):\n",
    "    data = []\n",
    "    for i in range(n):\n",
    "        x = np.random.uniform(0, 1)\n",
    "        data.append([x, math.sin(x*np.pi*f) + np.random.uniform(0,1)])\n",
    "    return np.array(data)\n",
    "    \n",
    "\n",
    "def sample_z(m, n):\n",
    "    return np.random.uniform(-1., 1., size=[m, n])"
   ]
  },
  {
   "cell_type": "code",
   "execution_count": 98,
   "metadata": {},
   "outputs": [
    {
     "name": "stdout",
     "output_type": "stream",
     "text": [
      "[[ 6.18489294e-02  2.59451579e+00]\n",
      " [-9.91871600e-02  2.50753679e+00]\n",
      " [ 4.59523074e-01  4.03950073e+00]\n",
      " [ 4.12883072e-02  2.56741881e+00]\n",
      " [ 2.37058972e-01  3.01534405e+00]\n",
      " [-4.30130807e-01  3.23027615e+00]\n",
      " [ 6.16847258e-02  2.59428084e+00]\n",
      " [-8.98287374e-02  2.50473218e+00]\n",
      " [ 1.04690103e-02  2.53556936e+00]\n",
      " [-3.46632712e-01  2.93352960e+00]\n",
      " [-4.18342236e-01  3.18369982e+00]\n",
      " [ 4.12824322e-01  3.77906774e+00]\n",
      " [ 1.77093811e-01  2.83305365e+00]\n",
      " [ 2.58434280e-01  3.08995040e+00]\n",
      " [ 2.50229932e-01  3.06071642e+00]\n",
      " [-4.81256610e-01  3.45008225e+00]\n",
      " [ 2.53750634e-01  3.07317019e+00]\n",
      " [-2.08747546e-01  2.61250864e+00]\n",
      " [-2.44955758e-01  2.67642377e+00]\n",
      " [-9.96244562e-02  2.50769156e+00]\n",
      " [-3.68735396e-01  3.00456758e+00]\n",
      " [ 3.23035289e-01  3.34617989e+00]\n",
      " [ 4.88460729e-01  4.21300096e+00]\n",
      " [ 9.13279268e-02  2.64153378e+00]\n",
      " [-2.58776826e-01  2.70464933e+00]\n",
      " [-4.56234800e-01  3.33888906e+00]\n",
      " [-2.62020681e-02  2.51137581e+00]\n",
      " [-1.45697931e-01  2.53586303e+00]\n",
      " [-5.06096828e-02  2.50352720e+00]\n",
      " [ 2.36004130e-01  3.01179334e+00]\n",
      " [ 4.00343886e-02  2.56591772e+00]\n",
      " [ 3.58773037e-01  3.50778223e+00]\n",
      " [ 3.33561331e-02  2.55821632e+00]\n",
      " [ 8.32395913e-02  2.62767521e+00]\n",
      " [ 4.83285145e-01  4.18128901e+00]\n",
      " [ 3.07550656e-01  3.28055157e+00]\n",
      " [ 3.83642789e-01  3.62858622e+00]\n",
      " [-3.70598899e-01  3.01080415e+00]\n",
      " [-2.71896980e-01  2.73340059e+00]\n",
      " [ 4.60874338e-01  4.04739605e+00]\n",
      " [ 3.09303469e-01  3.28784723e+00]\n",
      " [-6.53075261e-02  2.50198327e+00]\n",
      " [-4.43006619e-01  3.28290649e+00]\n",
      " [-4.14719946e-01  3.16969733e+00]\n",
      " [ 3.44534592e-01  3.44170256e+00]\n",
      " [-1.01674385e-01  2.50844531e+00]\n",
      " [-3.49460953e-01  2.94231774e+00]\n",
      " [-4.59106727e-01  3.35129926e+00]\n",
      " [ 2.06776417e-01  2.91831011e+00]\n",
      " [-3.20137395e-01  2.85550301e+00]\n",
      " [ 3.32398310e-01  3.38715118e+00]\n",
      " [ 4.25237732e-01  3.84593929e+00]\n",
      " [ 4.57461469e-01  4.02749390e+00]\n",
      " [-4.64125230e-01  3.37320452e+00]\n",
      " [ 4.59968570e-01  4.04210149e+00]\n",
      " [-2.55703173e-01  2.69818938e+00]\n",
      " [ 3.33229321e-01  3.39083448e+00]\n",
      " [ 2.87055243e-01  3.19776912e+00]\n",
      " [-4.09142825e-01  3.14842222e+00]\n",
      " [-2.01750107e-01  2.60183062e+00]\n",
      " [ 2.14684012e-01  2.94266866e+00]\n",
      " [-2.80745564e-01  2.75386753e+00]\n",
      " [-4.70503911e-02  2.50426088e+00]\n",
      " [ 1.78583394e-01  2.83709961e+00]\n",
      " [-6.32991724e-02  2.50205313e+00]\n",
      " [ 3.08432213e-01  3.28421659e+00]\n",
      " [-4.87967497e-01  3.48108352e+00]\n",
      " [-4.96177116e-01  3.51968646e+00]\n",
      " [ 1.42809900e-01  2.74672334e+00]\n",
      " [-3.02648276e-01  2.80825814e+00]\n",
      " [ 3.41160762e-01  3.42637385e+00]\n",
      " [ 7.00979894e-02  2.60670311e+00]\n",
      " [-4.01412091e-01  3.11950133e+00]\n",
      " [ 1.05179065e-01  2.66694891e+00]\n",
      " [ 2.53046335e-01  3.07066789e+00]\n",
      " [ 2.73955558e-01  3.14729522e+00]\n",
      " [ 1.47720780e-01  2.75829076e+00]\n",
      " [ 1.81991370e-01  2.84644867e+00]\n",
      " [-3.53542367e-01  2.95515597e+00]\n",
      " [-3.89612606e-01  3.07663506e+00]\n",
      " [ 2.09955992e-01  2.92802123e+00]\n",
      " [-4.85249351e-01  3.46846682e+00]\n",
      " [-2.23211057e-01  2.63629843e+00]\n",
      " [ 1.32015932e-01  2.72223709e+00]\n",
      " [ 6.11656490e-03  2.53191902e+00]\n",
      " [ 3.38661958e-01  3.41510199e+00]\n",
      " [-4.89453031e-01  3.48801343e+00]\n",
      " [ 7.51142483e-02  2.61448266e+00]\n",
      " [ 2.37721250e-01  3.01757965e+00]\n",
      " [ 1.67489545e-01  2.80755676e+00]\n",
      " [-2.45544713e-01  2.67758339e+00]\n",
      " [-2.02502461e-01  2.60295269e+00]\n",
      " [-3.87879540e-01  3.07046887e+00]\n",
      " [-2.35440720e-01  2.65822144e+00]\n",
      " [-9.21347940e-02  2.50533323e+00]\n",
      " [ 1.87984090e-01  2.86320035e+00]\n",
      " [ 4.83879782e-01  4.18491740e+00]\n",
      " [ 3.24985238e-01  3.35463256e+00]\n",
      " [-7.42782423e-02  2.50221654e+00]\n",
      " [ 2.77741172e-01  3.16168620e+00]\n",
      " [-1.47670869e-01  2.53759422e+00]\n",
      " [-2.71152855e-01  2.73171894e+00]\n",
      " [ 1.27187883e-01  2.71170221e+00]\n",
      " [ 9.80785301e-02  2.65365491e+00]\n",
      " [ 3.59579207e-01  3.51159076e+00]\n",
      " [ 1.47523687e-01  2.75782137e+00]\n",
      " [ 4.07493525e-01  3.75087425e+00]\n",
      " [ 6.01526041e-02  2.59210301e+00]\n",
      " [-4.84113628e-01  3.46321942e+00]\n",
      " [ 4.52961596e-01  4.00145003e+00]\n",
      " [ 4.67049805e-01  4.08373614e+00]\n",
      " [ 2.95491729e-01  3.23128141e+00]\n",
      " [ 1.64913142e-01  2.80089082e+00]\n",
      " [-2.11159681e-01  2.61631520e+00]\n",
      " [-2.35650515e-01  2.65861197e+00]\n",
      " [ 2.04477370e-01  2.91135805e+00]\n",
      " [-3.93235359e-02  2.50633647e+00]\n",
      " [-2.79566173e-01  2.75108949e+00]\n",
      " [ 3.24669830e-01  3.35326247e+00]\n",
      " [ 2.84681570e-01  3.18848224e+00]\n",
      " [ 1.49810144e-01  2.76329317e+00]\n",
      " [ 1.22914610e-01  2.70259320e+00]\n",
      " [ 4.38894528e-01  3.92148031e+00]\n",
      " [-3.16742016e-01  2.84606582e+00]\n",
      " [ 3.00683089e-01  3.25229479e+00]\n",
      " [-2.63573841e-01  2.71494036e+00]\n",
      " [ 4.25247350e-02  2.56891602e+00]\n",
      " [ 4.25986109e-01  3.85002537e+00]\n",
      " [ 3.37166451e-01  3.40838898e+00]\n",
      " [ 3.88087494e-01  3.65089764e+00]\n",
      " [ 3.28717969e-01  3.37093072e+00]\n",
      " [ 2.62512793e-01  3.10476044e+00]\n",
      " [-4.64787743e-01  3.37611716e+00]\n",
      " [ 3.16648207e-01  3.31878787e+00]\n",
      " [-4.94312613e-01  3.51085377e+00]\n",
      " [ 2.17768227e-01  2.95235698e+00]\n",
      " [-9.55173562e-02  2.50632141e+00]\n",
      " [-3.93369886e-01  3.09011755e+00]\n",
      " [-3.26707279e-01  2.87412598e+00]\n",
      " [-6.52269656e-02  2.50198521e+00]\n",
      " [ 9.03585265e-02  2.63983460e+00]\n",
      " [-2.11100953e-02  2.51384489e+00]\n",
      " [ 3.01679592e-01  3.25636253e+00]\n",
      " [ 4.34864444e-01  3.89897355e+00]\n",
      " [ 3.80844999e-01  3.61465413e+00]\n",
      " [-4.24587146e-01  3.20818161e+00]\n",
      " [-2.26478573e-01  2.64199367e+00]\n",
      " [-7.40567039e-02  2.50220004e+00]\n",
      " [ 3.53900455e-01  3.48491623e+00]\n",
      " [ 4.43383405e-01  3.94676102e+00]\n",
      " [ 1.51926215e-01  2.76840879e+00]\n",
      " [-3.56152037e-01  2.96346146e+00]\n",
      " [-4.88188992e-01  3.48211523e+00]\n",
      " [-3.44877464e-01  2.92812010e+00]\n",
      " [ 4.01512831e-01  3.71961816e+00]\n",
      " [ 6.43776510e-02  2.59817168e+00]\n",
      " [-2.49157001e-01  2.68477983e+00]\n",
      " [-4.10126354e-01  3.15214908e+00]\n",
      " [ 1.11691315e-01  2.67963232e+00]\n",
      " [-3.08898283e-02  2.50935656e+00]\n",
      " [-4.77031989e-01  3.43082220e+00]\n",
      " [-1.48939374e-01  2.53873006e+00]\n",
      " [-1.13294458e-01  2.51359748e+00]\n",
      " [ 1.42356406e-01  2.74566862e+00]\n",
      " [-3.57592969e-01  2.96807967e+00]\n",
      " [-4.84142020e-01  3.46335042e+00]\n",
      " [-1.47205392e-02  2.51734936e+00]\n",
      " [ 3.73123349e-01  3.57665257e+00]\n",
      " [-4.32153585e-01  3.23842278e+00]\n",
      " [ 2.73659806e-01  3.14617760e+00]\n",
      " [ 4.66600745e-01  4.08107936e+00]\n",
      " [ 1.50080598e-01  2.76394423e+00]\n",
      " [ 3.63796668e-02  2.56164189e+00]\n",
      " [ 4.19796605e-01  3.81641767e+00]\n",
      " [-4.01686373e-01  3.12051610e+00]\n",
      " [ 3.00992399e-01  3.25355621e+00]\n",
      " [ 2.45333774e-01  3.04362542e+00]\n",
      " [-3.68425351e-01  3.00353368e+00]\n",
      " [-1.83406185e-01  2.57641182e+00]\n",
      " [-4.19440013e-01  3.18797213e+00]\n",
      " [-3.32693126e-01  2.89150957e+00]\n",
      " [-4.96656859e-01  3.52196537e+00]\n",
      " [-1.51070421e-02  2.51712453e+00]\n",
      " [-2.33439726e-02  2.51272634e+00]\n",
      " [-2.88561301e-02  2.51020269e+00]\n",
      " [ 1.71458353e-01  2.81796910e+00]\n",
      " [ 4.91356071e-01  4.23087075e+00]\n",
      " [ 1.76074337e-01  2.83029875e+00]\n",
      " [-4.75969536e-01  3.42600958e+00]\n",
      " [-2.50317411e-01  2.68712227e+00]\n",
      " [-3.51932426e-01  2.95006981e+00]\n",
      " [ 1.05159936e-01  2.66691234e+00]\n",
      " [-2.85017254e-01  2.76405834e+00]\n",
      " [-4.46989720e-03  2.52391594e+00]\n",
      " [ 2.38156300e-01  3.01905086e+00]\n",
      " [-2.46690213e-01  2.67984982e+00]\n",
      " [ 4.70456989e-01  4.10396680e+00]\n",
      " [ 2.02627311e-01  2.90580618e+00]\n",
      " [-1.67199695e-01  2.55705511e+00]\n",
      " [-1.25220340e-01  2.52044000e+00]\n",
      " [-2.85283297e-01  2.76469971e+00]\n",
      " [-2.25901432e-01  2.64097913e+00]\n",
      " [-3.46639009e-01  2.93354907e+00]\n",
      " [ 5.92493775e-02  2.59083130e+00]\n",
      " [-9.30241595e-02  2.50558077e+00]\n",
      " [ 1.86076079e-01  2.85782366e+00]\n",
      " [ 1.91422702e-01  2.87299199e+00]\n",
      " [-1.36636643e-01  2.52846561e+00]\n",
      " [-2.84498403e-01  2.76280975e+00]\n",
      " [ 4.00746976e-01  3.71564428e+00]\n",
      " [ 1.44711882e-01  2.75117171e+00]\n",
      " [-3.12772261e-01  2.83519409e+00]\n",
      " [ 3.56928520e-02  2.56085487e+00]\n",
      " [-1.76818732e-01  2.56819306e+00]\n",
      " [ 1.55496945e-01  2.77715350e+00]\n",
      " [-5.53549211e-02  2.50276725e+00]\n",
      " [ 2.10193560e-01  2.92875131e+00]\n",
      " [-2.88744497e-02  2.51019486e+00]\n",
      " [ 1.71458060e-01  2.81796833e+00]\n",
      " [-3.54837983e-01  2.95926995e+00]\n",
      " [-3.65934972e-01  2.99526773e+00]\n",
      " [-2.84878869e-01  2.76372503e+00]\n",
      " [ 1.12331354e-01  2.68090423e+00]\n",
      " [-3.85372063e-01  3.06160622e+00]\n",
      " [-4.93613625e-01  3.50755238e+00]\n",
      " [ 1.85804090e-01  2.85706049e+00]\n",
      " [-9.07061094e-02  2.50495392e+00]\n",
      " [ 4.63924490e-01  4.06529216e+00]\n",
      " [ 1.28189922e-01  2.71386745e+00]\n",
      " [ 1.95390506e-01  2.88445325e+00]\n",
      " [ 1.54405733e-01  2.77446614e+00]\n",
      " [ 5.55730920e-05  2.52718521e+00]\n",
      " [-4.97717037e-02  2.50368730e+00]\n",
      " [-2.61324535e-01  2.71008320e+00]\n",
      " [ 4.49383997e-01  3.98090400e+00]\n",
      " [-1.36114988e-01  2.52806742e+00]\n",
      " [ 2.92072182e-01  3.21760294e+00]\n",
      " [ 2.72083071e-01  3.14023563e+00]\n",
      " [ 4.34574122e-01  3.89735914e+00]\n",
      " [ 1.14257382e-01  2.68475904e+00]\n",
      " [-2.63768622e-01  2.71536360e+00]\n",
      " [-6.79325237e-02  2.50195930e+00]\n",
      " [ 2.89665178e-02  2.55342320e+00]\n",
      " [-1.51235481e-01  2.54083135e+00]\n",
      " [ 7.08512466e-02  2.60785353e+00]\n",
      " [ 1.29832801e-01  2.71744149e+00]\n",
      " [ 2.15909792e-01  2.94650654e+00]\n",
      " [ 2.92160709e-01  3.21795542e+00]\n",
      " [-4.72020555e-01  3.40823134e+00]\n",
      " [-1.40534870e-01  2.53153659e+00]\n",
      " [ 2.24488061e-01  2.97383049e+00]\n",
      " [ 1.60552589e-01  2.78977623e+00]\n",
      " [ 9.38374283e-02  2.64598082e+00]\n",
      " [ 2.34697802e-01  3.00741317e+00]\n",
      " [-3.67828810e-01  3.00154741e+00]\n",
      " [-4.93018100e-01  3.50474393e+00]]\n"
     ]
    },
    {
     "data": {
      "image/png": "[encoded data removed]",
      "text/plain": [
       "<Figure size 432x288 with 1 Axes>"
      ]
     },
     "metadata": {
      "needs_background": "light"
     },
     "output_type": "display_data"
    }
   ],
   "source": [
    "# PARABOLA\n",
    "data = sample_data(256, 100)\n",
    "plt.scatter(data[:,0], data[:,1])\n",
    "# data = []\n",
    "# a = np.random.uniform(0,10)\n",
    "# b = np.random.uniform(-10,10)\n",
    "# c = np.random.uniform(-1, 1)\n",
    "# n = 256\n",
    "# # x = np.random.random_sample((n,))-0.5\n",
    "# for i in range(n):\n",
    "#     x = np.random.uniform(0,1)-0.5\n",
    "#     data.append([x, b*x**2 + c*x + a])\n",
    "# data = np.array(data)\n",
    "# plt.scatter(data[:,0], data[:,1])\n",
    "# plt.show()\n",
    "\n",
    "# SINE\n",
    "# for i in range(256):\n",
    "#     x = np.random.uniform(0, 1)\n",
    "#     data.append([x, math.sin(x*np.pi*(2))+np.random.uniform(0,2)])\n",
    "# data = np.array(data)\n",
    "# plt.scatter(data[:,0], data[:,1])\n",
    "# plt.show()\n",
    "\n",
    "# CIRCLE\n",
    "# data = []\n",
    "# for i in range(1000):\n",
    "#     x = np.random.uniform(0,1)\n",
    "#     data.append([x**0.5, (1 - x)**0.5])\n",
    "# data = np.array(data)\n",
    "\n",
    "# plt.scatter(data[:,0], data[:,1])\n",
    "# plt.show()\n",
    "\n",
    "print(data)"
   ]
  },
  {
   "cell_type": "code",
   "execution_count": 92,
   "metadata": {
    "scrolled": true
   },
   "outputs": [
    {
     "name": "stdout",
     "output_type": "stream",
     "text": [
      "Iterations: 0\t Discriminator loss: 1.3874\t Generator loss: 0.7064\n"
     ]
    },
    {
     "data": {
      "image/png": "[encoded data removed]",
      "text/plain": [
       "<Figure size 432x288 with 1 Axes>"
      ]
     },
     "metadata": {
      "needs_background": "light"
     },
     "output_type": "display_data"
    },
    {
     "name": "stdout",
     "output_type": "stream",
     "text": [
      "Iterations: 5000\t Discriminator loss: 1.3824\t Generator loss: 0.6804\n"
     ]
    },
    {
     "data": {
      "image/png": "[encoded data removed]",
      "text/plain": [
       "<Figure size 432x288 with 1 Axes>"
      ]
     },
     "metadata": {
      "needs_background": "light"
     },
     "output_type": "display_data"
    },
    {
     "name": "stdout",
     "output_type": "stream",
     "text": [
      "Iterations: 10000\t Discriminator loss: 1.5433\t Generator loss: 0.6661\n"
     ]
    },
    {
     "data": {
      "image/png": "[encoded data removed]",
      "text/plain": [
       "<Figure size 432x288 with 1 Axes>"
      ]
     },
     "metadata": {
      "needs_background": "light"
     },
     "output_type": "display_data"
    },
    {
     "name": "stdout",
     "output_type": "stream",
     "text": [
      "Iterations: 15000\t Discriminator loss: 1.4467\t Generator loss: 0.7054\n"
     ]
    },
    {
     "data": {
      "image/png": "[encoded data removed]",
      "text/plain": [
       "<Figure size 432x288 with 1 Axes>"
      ]
     },
     "metadata": {
      "needs_background": "light"
     },
     "output_type": "display_data"
    },
    {
     "name": "stdout",
     "output_type": "stream",
     "text": [
      "Iterations: 20000\t Discriminator loss: 1.3765\t Generator loss: 0.6581\n"
     ]
    },
    {
     "data": {
      "image/png": "[encoded data removed]",
      "text/plain": [
       "<Figure size 432x288 with 1 Axes>"
      ]
     },
     "metadata": {
      "needs_background": "light"
     },
     "output_type": "display_data"
    },
    {
     "name": "stdout",
     "output_type": "stream",
     "text": [
      "Iterations: 25000\t Discriminator loss: 1.6406\t Generator loss: 0.6610\n"
     ]
    },
    {
     "data": {
      "image/png": "[encoded data removed]",
      "text/plain": [
       "<Figure size 432x288 with 1 Axes>"
      ]
     },
     "metadata": {
      "needs_background": "light"
     },
     "output_type": "display_data"
    }
   ],
   "source": [
    "tf.reset_default_graph()\n",
    "\n",
    "def generator(z, hsize=[5,10, 20], reuse=False):\n",
    "    with tf.variable_scope(\"GAN/Generator\", reuse=reuse) as scope:\n",
    "        h1 = tf.layers.dense(z, hsize[0], activation=tf.nn.leaky_relu)\n",
    "        h2 = tf.layers.dense(h1, hsize[1], activation=tf.nn.leaky_relu)\n",
    "        h3 = tf.layers.dense(h2, hsize[2], activation=tf.nn.leaky_relu)\n",
    "        out = tf.layers.dense(h3, 2)\n",
    "    return out\n",
    "\n",
    "def discriminator(x, hsize=[15,15], reuse=False):\n",
    "    with tf.variable_scope(\"GAN/Discriminator\", reuse=reuse):\n",
    "        h1 = tf.layers.dense(x, hsize[0], activation = tf.nn.leaky_relu)\n",
    "        h2 = tf.layers.dense(h1, hsize[1], activation = tf.nn.leaky_relu)\n",
    "        h3 = tf.layers.dense(h2, 2)\n",
    "        out = tf.layers.dense(h3, 1)\n",
    "    return out, h3\n",
    "\n",
    "x = tf.placeholder(tf.float32, [None, 2])\n",
    "z = tf.placeholder(tf.float32, [None, 2])\n",
    "\n",
    "G_sample = generator(z)\n",
    "r_logits, r_rep = discriminator(x)\n",
    "f_logits, g_rep = discriminator(G_sample, reuse=True)\n",
    "disc_loss = tf.reduce_mean(tf.nn.sigmoid_cross_entropy_with_logits(logits=r_logits, labels=tf.ones_like(r_logits)) + tf.nn.sigmoid_cross_entropy_with_logits(logits=f_logits, labels=tf.zeros_like(f_logits)))\n",
    "gen_loss = tf.reduce_mean(tf.nn.sigmoid_cross_entropy_with_logits(logits=f_logits, labels=tf.ones_like(f_logits)))\n",
    "\n",
    "gen_vars = tf.get_collection(tf.GraphKeys.GLOBAL_VARIABLES, scope=\"GAN/Generator\")\n",
    "disc_vars = tf.get_collection(tf.GraphKeys.GLOBAL_VARIABLES, scope=\"GAN/Discriminator\")\n",
    "gen_step = tf.train.RMSPropOptimizer(learning_rate=0.001).minimize(gen_loss, var_list = gen_vars)\n",
    "disc_step = tf.train.RMSPropOptimizer(learning_rate=0.001).minimize(disc_loss, var_list = disc_vars)\n",
    "\n",
    "sess = tf.Session()\n",
    "tf.global_variables_initializer().run(session=sess)\n",
    "\n",
    "batch_size = 256\n",
    "nd_steps = 10\n",
    "ng_steps = 10\n",
    "# x_data = sample_data(batch_size)\n",
    "# x_data = pi_sample_data(batch_size, 2)\n",
    "for i in range(30000):\n",
    "    x_batch = sample_data(n=batch_size)\n",
    "#     x_batch = pi_sample_data(batch_size, 2)\n",
    "#     x_batch = x_data\n",
    "    z_batch = sample_z(batch_size, 2)\n",
    "    _, dloss = sess.run([disc_step, disc_loss], feed_dict={x: x_batch, z: z_batch})\n",
    "    _, gloss = sess.run([gen_step, gen_loss], feed_dict = {z: z_batch})\n",
    "    if i%5000 == 0:\n",
    "        print(\"Iterations: %d\\t Discriminator loss: %.4f\\t Generator loss: %.4f\"%(i,dloss,gloss))\n",
    "        g_plot = sess.run(G_sample, feed_dict={z: z_batch})\n",
    "        plt.scatter(g_plot[:,0], g_plot[:,1])\n",
    "        plt.show()\n"
   ]
  },
  {
   "cell_type": "code",
   "execution_count": 42,
   "metadata": {},
   "outputs": [],
   "source": [
    "def discriminator(x, hsize=[16,16], reuse=False):\n",
    "    with tf.variable_scope(\"GAN/Discriminator\", reuse=reuse):\n",
    "        h1 = tf.layers.dense(x, hsize[0], activation = tf.nn.leaky_relu)\n",
    "        h2 = tf.layers.dense(h1, hsize[1], activation = tf.nn.leaky_relu)\n",
    "        h3 = tf.layers.dense(h2, 2)\n",
    "        out = tf.layers.dense(h3, 1)\n",
    "    return out, h3"
   ]
  },
  {
   "cell_type": "code",
   "execution_count": 12,
   "metadata": {},
   "outputs": [],
   "source": [
    "# test = np.random.uniform(-1., 1., size=[10, 3])\n",
    "# print(test)\n",
    "\n",
    "z = tf.placeholder(tf.float32, [None, 2])\n",
    "test = generator(z, reuse=True)\n",
    "\n",
    "with tf.Session() as s:\n",
    "    tf.global_variables_initializer().run(session=s)\n",
    "    a = np.random.uniform(-1., 1., size=[10000, 2])\n",
    "# with tf.(\"GAN/Generator\", reuse=True) as scope:\n",
    "# test = generator(np.random.uniform(-1., 1., size=[10, 2]))\n",
    "    x_points = []\n",
    "    y_points = []\n",
    "    for i in range(a.shape[0]-1):\n",
    "        c = s.run([test], feed_dict = {z: a[i].reshape(1,2)})\n",
    "        for i in c:\n",
    "            x_points.append(np.asarray(i[0])[0])\n",
    "            y_points.append(np.asarray(i[0])[1])"
   ]
  },
  {
   "cell_type": "code",
   "execution_count": 13,
   "metadata": {},
   "outputs": [
    {
     "data": {
      "text/plain": [
       "<matplotlib.collections.PathCollection at 0x642a67990>"
      ]
     },
     "execution_count": 13,
     "metadata": {},
     "output_type": "execute_result"
    },
    {
     "data": {
      "image/png": "[encoded data removed]",
      "text/plain": [
       "<Figure size 432x288 with 1 Axes>"
      ]
     },
     "metadata": {
      "needs_background": "light"
     },
     "output_type": "display_data"
    }
   ],
   "source": [
    "plt.scatter(x_points, y_points)\n",
    "# for i in range(len(x_points)):\n",
    "#     print(x_points[i] , y_points[i] )\n",
    "# print(x_points)\n",
    "# print(y_points)"
   ]
  }
 ],
 "metadata": {
  "kernelspec": {
   "display_name": "Python 3",
   "language": "python",
   "name": "python3"
  },
  "language_info": {
   "codemirror_mode": {
    "name": "ipython",
    "version": 3
   },
   "file_extension": ".py",
   "mimetype": "text/x-python",
   "name": "python",
   "nbconvert_exporter": "python",
   "pygments_lexer": "ipython3",
   "version": "3.7.4"
  }
 },
 "nbformat": 4,
 "nbformat_minor": 2
}
