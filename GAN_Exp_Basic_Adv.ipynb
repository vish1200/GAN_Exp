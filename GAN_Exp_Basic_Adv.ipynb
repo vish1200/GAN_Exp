{
 "cells": [
  {
   "cell_type": "code",
   "execution_count": 2,
   "metadata": {},
   "outputs": [
    {
     "name": "stdout",
     "output_type": "stream",
     "text": [
      "WARNING:tensorflow:From /opt/anaconda3/lib/python3.7/site-packages/tensorflow_core/python/compat/v2_compat.py:65: disable_resource_variables (from tensorflow.python.ops.variable_scope) is deprecated and will be removed in a future version.\n",
      "Instructions for updating:\n",
      "non-resource variables are not supported in the long term\n"
     ]
    }
   ],
   "source": [
    "import pandas as pd\n",
    "import glob\n",
    "import imageio\n",
    "import matplotlib.pyplot as plt\n",
    "import numpy as np\n",
    "import os\n",
    "import PIL\n",
    "import tensorflow.compat.v1 as tf\n",
    "tf.disable_v2_behavior()\n",
    "from tensorflow.keras import layers\n",
    "import time\n",
    "from IPython import display\n",
    "import math\n",
    "import time"
   ]
  },
  {
   "cell_type": "code",
   "execution_count": 3,
   "metadata": {},
   "outputs": [],
   "source": [
    "def get_y(x):\n",
    "    return x*x\n",
    "\n",
    "def sample_data(n, num_points):\n",
    "    x = (np.random.random_sample((num_points,))-0.5)*10\n",
    "    x = np.sort(x).tolist()\n",
    "    a = np.random.uniform(-10, 10)\n",
    "    b = np.random.uniform(-1, 1)\n",
    "    c = np.random.uniform(-10, 10)\n",
    "    y = []\n",
    "    for i in range(0,num_points):\n",
    "        y.append(x[i]**2 + c)\n",
    "    combined = x+y\n",
    "    data = np.array([combined])\n",
    "    for i in range(n-1):\n",
    "        c = np.random.uniform(-10, 10)\n",
    "        x = (np.random.random_sample((num_points,))-0.5)*10\n",
    "        x = np.sort(x).tolist()\n",
    "        y = []\n",
    "        for i in range(0,num_points):\n",
    "#             yi = a*x[i]**2 + b*x[i] + c \n",
    "#             yi = x[i]**2\n",
    "            y.append(x[i]**2 + c)\n",
    "#             data.append([x[i], yi])\n",
    "        combined = x + y\n",
    "        data = np.vstack((data, combined))\n",
    "    return data\n",
    "\n",
    "\n",
    "def pi_sample_data(n, f):\n",
    "    data = []\n",
    "    for i in range(n):\n",
    "        x = np.random.uniform(0, 1)\n",
    "        data.append([x, math.sin(x*np.pi*f) + np.random.uniform(0,1)])\n",
    "    return np.array(data)\n",
    "    \n",
    "\n",
    "def sample_z(m, n):\n",
    "    seed = np.random.uniform(-1., 1., size=[m, n])\n",
    "    seed = np.sort(seed)\n",
    "    return seed"
   ]
  },
  {
   "cell_type": "code",
   "execution_count": 50,
   "metadata": {},
   "outputs": [
    {
     "name": "stdout",
     "output_type": "stream",
     "text": [
      "(1, 100)\n",
      "-4.362606945021497\n",
      "[ 7.60460691 -0.28116882  5.72064115  4.65864458  6.22690609]\n"
     ]
    },
    {
     "data": {
      "image/png": "[encoded data removed]",
      "text/plain": [
       "<Figure size 432x288 with 1 Axes>"
      ]
     },
     "metadata": {
      "needs_background": "light"
     },
     "output_type": "display_data"
    }
   ],
   "source": [
    "x = []\n",
    "y = []\n",
    "data = sample_data(n=1, num_points = 50)\n",
    "print(data.shape)\n",
    "print(data[0,1])\n",
    "for i in range(0, int(data.shape[1]/2)):\n",
    "    x.append(data[0,i])\n",
    "    \n",
    "for i in range(int(data.shape[1]/2), int(data.shape[1])):\n",
    "        y.append(data[0,i])\n",
    "        \n",
    "plt.ylim(-20.0, 20.0)\n",
    "plt.xlim(-10, 10)\n",
    "plt.scatter(x,y)\n",
    "print((np.random.random_sample((5,))*10-0.5))"
   ]
  },
  {
   "cell_type": "code",
   "execution_count": 4,
   "metadata": {
    "scrolled": true
   },
   "outputs": [
    {
     "name": "stdout",
     "output_type": "stream",
     "text": [
      "WARNING:tensorflow:From <ipython-input-4-808fd5276467>:8: dense (from tensorflow.python.layers.core) is deprecated and will be removed in a future version.\n",
      "Instructions for updating:\n",
      "Use keras.layers.Dense instead.\n",
      "WARNING:tensorflow:From /opt/anaconda3/lib/python3.7/site-packages/tensorflow_core/python/layers/core.py:187: Layer.apply (from tensorflow.python.keras.engine.base_layer) is deprecated and will be removed in a future version.\n",
      "Instructions for updating:\n",
      "Please use `layer.__call__` method instead.\n",
      "0.051164265473683676\n",
      "Iterations: 0\t Discriminator loss: 0.8471\t Generator loss: 0.6583\n"
     ]
    },
    {
     "data": {
      "image/png": "[encoded data removed]",
      "text/plain": [
       "<Figure size 432x288 with 1 Axes>"
      ]
     },
     "metadata": {
      "needs_background": "light"
     },
     "output_type": "display_data"
    },
    {
     "name": "stdout",
     "output_type": "stream",
     "text": [
      "4.282998716831207\n",
      "Iterations: 4000\t Discriminator loss: 0.2517\t Generator loss: 1.9707\n"
     ]
    },
    {
     "data": {
      "image/png": "[encoded data removed]",
      "text/plain": [
       "<Figure size 432x288 with 1 Axes>"
      ]
     },
     "metadata": {
      "needs_background": "light"
     },
     "output_type": "display_data"
    }
   ],
   "source": [
    "os.environ['KMP_DUPLICATE_LIB_OK']='True'\n",
    "tf.reset_default_graph()\n",
    "start = time.time()\n",
    "num_points = 50\n",
    "gen_input_size = 200\n",
    "def generator(z, hsize=[1000,200], reuse=False):\n",
    "    with tf.variable_scope(\"GAN/Generator\", reuse=reuse) as scope:\n",
    "        h1 = tf.layers.dense(z, hsize[0], activation=tf.nn.leaky_relu)\n",
    "#         h2 = tf.layers.dense(h1, hsize[1], activation=tf.nn.leaky_relu)\n",
    "#         h3 = tf.layers.dense(h2, hsize[2], activation=tf.nn.leaky_relu)\n",
    "        out = tf.layers.dense(h1, num_points*2)\n",
    "    return out\n",
    "\n",
    "def discriminator(x, hsize=[1000,20000], reuse=False):\n",
    "    with tf.variable_scope(\"GAN/Discriminator\", reuse=reuse):\n",
    "        h1 = tf.layers.dense(x, hsize[0], activation = tf.nn.leaky_relu)\n",
    "#         h2 = tf.layers.dense(h1, hsize[1], activation = tf.nn.leaky_relu)\n",
    "        h3 = tf.layers.dense(h1, 2)\n",
    "        out = tf.layers.dense(h1, 1)\n",
    "    return out, h3\n",
    "\n",
    "x = tf.placeholder(tf.float32, [None, num_points*2])\n",
    "z = tf.placeholder(tf.float32, [None, gen_input_size])\n",
    "\n",
    "G_sample = generator(z)\n",
    "r_logits, r_rep = discriminator(x)\n",
    "f_logits, g_rep = discriminator(G_sample, reuse=True)\n",
    "disc_loss = tf.reduce_mean(tf.nn.sigmoid_cross_entropy_with_logits(logits=r_logits, labels=tf.ones_like(r_logits)) + tf.nn.sigmoid_cross_entropy_with_logits(logits=f_logits, labels=tf.zeros_like(f_logits)))\n",
    "gen_loss = tf.reduce_mean(tf.nn.sigmoid_cross_entropy_with_logits(logits=f_logits, labels=tf.ones_like(f_logits)))\n",
    "\n",
    "# disc_loss = tf.reduce_mean(tf.squared_difference(r_logits, tf.ones_like(r_logits)) + tf.squared_difference(f_logits, tf.zeros_like(f_logits)))\n",
    "# gen_loss = tf.reduce_mean(tf.squared_difference(f_logits, tf.ones_like(f_logits)))\n",
    "\n",
    "gen_vars = tf.get_collection(tf.GraphKeys.GLOBAL_VARIABLES, scope=\"GAN/Generator\")\n",
    "disc_vars = tf.get_collection(tf.GraphKeys.GLOBAL_VARIABLES, scope=\"GAN/Discriminator\")\n",
    "gen_step = tf.train.GradientDescentOptimizer(learning_rate=0.001).minimize(gen_loss, var_list = gen_vars)\n",
    "disc_step = tf.train.GradientDescentOptimizer(learning_rate=0.001).minimize(disc_loss, var_list = disc_vars)\n",
    "\n",
    "sess = tf.Session()\n",
    "tf.global_variables_initializer().run(session=sess)\n",
    "GAN_saver = tf.train.Saver()\n",
    "\n",
    "batch_size = 256\n",
    "nd_steps = 1\n",
    "ng_steps = 1\n",
    "# x_data = sample_data(batch_size)\n",
    "# x_data = pi_sample_data(batch_size, 2)\n",
    "for i in range(4001):\n",
    "    x_batch = sample_data(n=batch_size, num_points=num_points)\n",
    "#     x_batch = pi_sample_data(batch_size, 2)\n",
    "#     x_batch = x_data\n",
    "    z_batch = sample_z(batch_size, gen_input_size)\n",
    "    for _ in range(nd_steps):\n",
    "        _, dloss = sess.run([disc_step, disc_loss], feed_dict={x: x_batch, z: z_batch})\n",
    "    for _ in range(ng_steps):\n",
    "        _, gloss = sess.run([gen_step, gen_loss], feed_dict = {z: z_batch})\n",
    "    if i%4000 == 0:\n",
    "        print((time.time()-start)/60)\n",
    "        print(\"Iterations: %d\\t Discriminator loss: %.4f\\t Generator loss: %.4f\"%(i,dloss,gloss))\n",
    "        g_plot = sess.run(G_sample, feed_dict={z: sample_z(1, gen_input_size)})\n",
    "        x_ = []\n",
    "        y_ = []\n",
    "        for i in range(0, int(g_plot.shape[1]/2)):\n",
    "            x_.append(g_plot[0,i])\n",
    "\n",
    "        for i in range(int(g_plot.shape[1]/2), int(g_plot.shape[1])):\n",
    "            y_.append(g_plot[0,i])\n",
    "\n",
    "        plt.ylim(-20.0, 20)\n",
    "        plt.scatter(x_, y_)\n",
    "        plt.show()\n",
    "        start = time.time()\n",
    "saver_path = GAN_saver.save(sess, \"GAN_Vars\")"
   ]
  },
  {
   "cell_type": "code",
   "execution_count": 5,
   "metadata": {},
   "outputs": [
    {
     "name": "stdout",
     "output_type": "stream",
     "text": [
      "[<tf.Variable 'GAN/Generator/dense/kernel:0' shape=(10, 30) dtype=float32_ref>, <tf.Variable 'GAN/Generator/dense/bias:0' shape=(30,) dtype=float32_ref>, <tf.Variable 'GAN/Generator/dense_1/kernel:0' shape=(30, 15) dtype=float32_ref>, <tf.Variable 'GAN/Generator/dense_1/bias:0' shape=(15,) dtype=float32_ref>, <tf.Variable 'GAN/Generator/dense_2/kernel:0' shape=(15, 100) dtype=float32_ref>, <tf.Variable 'GAN/Generator/dense_2/bias:0' shape=(100,) dtype=float32_ref>, <tf.Variable 'GAN/Discriminator/dense/kernel:0' shape=(100, 15) dtype=float32_ref>, <tf.Variable 'GAN/Discriminator/dense/bias:0' shape=(15,) dtype=float32_ref>, <tf.Variable 'GAN/Discriminator/dense_1/kernel:0' shape=(15, 15) dtype=float32_ref>, <tf.Variable 'GAN/Discriminator/dense_1/bias:0' shape=(15,) dtype=float32_ref>, <tf.Variable 'GAN/Discriminator/dense_2/kernel:0' shape=(15, 2) dtype=float32_ref>, <tf.Variable 'GAN/Discriminator/dense_2/bias:0' shape=(2,) dtype=float32_ref>, <tf.Variable 'GAN/Discriminator/dense_3/kernel:0' shape=(2, 1) dtype=float32_ref>, <tf.Variable 'GAN/Discriminator/dense_3/bias:0' shape=(1,) dtype=float32_ref>]\n"
     ]
    }
   ],
   "source": [
    "with tf.Session() as sess:\n",
    "    vars = tf.trainable_variables()\n",
    "    print(vars)"
   ]
  },
  {
   "cell_type": "code",
   "execution_count": 183,
   "metadata": {},
   "outputs": [
    {
     "name": "stdout",
     "output_type": "stream",
     "text": [
      "<class 'tensorflow.python.framework.ops.Tensor'>\n",
      "INFO:tensorflow:Restoring parameters from GAN_Vars\n",
      "(1, 200)\n",
      "<class 'numpy.ndarray'>\n",
      "(1, 100)\n"
     ]
    },
    {
     "data": {
      "image/png": "[encoded data removed]",
      "text/plain": [
       "<Figure size 432x288 with 1 Axes>"
      ]
     },
     "metadata": {
      "needs_background": "light"
     },
     "output_type": "display_data"
    }
   ],
   "source": [
    "z = tf.placeholder(tf.float32, [None, gen_input_size])\n",
    "test = generator(z, reuse=True)\n",
    "\n",
    "print(type(G_sample))\n",
    "with tf.Session() as sess:\n",
    "    GAN_saver.restore(sess, \"GAN_Vars\")\n",
    "#     tf.global_variables_initializer().run(session=sess)\n",
    "    sample = sample_z(1, gen_input_size)\n",
    "    print(sample.shape)\n",
    "    print(type(sample))\n",
    "    g_plot = sess.run(test, feed_dict={z: sample})\n",
    "    x_ = []\n",
    "    y_ = []\n",
    "    print(g_plot.shape)\n",
    "    for i in range(0, int(g_plot.shape[1]/2)):\n",
    "        x_.append(g_plot[0,i])\n",
    "\n",
    "    for i in range(int(g_plot.shape[1]/2), int(g_plot.shape[1])):\n",
    "        y_.append(g_plot[0,i])\n",
    "        \n",
    "    \n",
    "    plt.ylim(-20.0, 20)\n",
    "#     plt.ylim(-20.0, 20)\n",
    "    plt.scatter(x_, y_)\n",
    "    plt.show()"
   ]
  }
 ],
 "metadata": {
  "kernelspec": {
   "display_name": "Python 3",
   "language": "python",
   "name": "python3"
  },
  "language_info": {
   "codemirror_mode": {
    "name": "ipython",
    "version": 3
   },
   "file_extension": ".py",
   "mimetype": "text/x-python",
   "name": "python",
   "nbconvert_exporter": "python",
   "pygments_lexer": "ipython3",
   "version": "3.7.4"
  }
 },
 "nbformat": 4,
 "nbformat_minor": 2
}
